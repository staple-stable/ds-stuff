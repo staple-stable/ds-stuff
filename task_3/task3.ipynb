{
 "cells": [
  {
   "cell_type": "code",
   "execution_count": 1,
   "metadata": {},
   "outputs": [],
   "source": [
    "import numpy as np;\n",
    "import scipy;\n",
    "import seaborn as sns;\n",
    "import pandas as pd;\n",
    "import matplotlib.pyplot as plt;\n",
    "from collections import defaultdict"
   ]
  },
  {
   "cell_type": "code",
   "execution_count": 5,
   "metadata": {},
   "outputs": [
    {
     "name": "stdout",
     "output_type": "stream",
     "text": [
      "Decision:\tAccept\n",
      "\n",
      "    values  lower  upper\n",
      "n                       \n",
      "1    1.082 -1.058  3.273\n",
      "2    2.022 -0.558  3.773\n",
      "3    1.133 -0.058  4.273\n",
      "4    0.658  0.442  4.773\n",
      "5    1.994  0.942  5.273\n",
      "6    0.036  1.442  5.773\n",
      "7    0.671  1.942  6.273\n",
      "8    0.406  2.442  6.773\n",
      "9    0.784  2.942  7.273\n",
      "10   0.573  3.442  7.773\n"
     ]
    }
   ],
   "source": [
    "import sprt as sprt\n",
    "import numpy as np\n",
    "\n",
    "test = sprt.SPRTNormal(alpha = 0.05, beta = 0.2, h0 = 0, h1 = 1, \n",
    "values = np.random.normal(0, 1, 10), \n",
    "variance = 1)"
   ]
  },
  {
   "cell_type": "code",
   "execution_count": 3,
   "metadata": {},
   "outputs": [
    {
     "data": {
      "image/png": "[encoded data removed]",
      "text/plain": [
       "<matplotlib.figure.Figure at 0x206bc01ca90>"
      ]
     },
     "metadata": {},
     "output_type": "display_data"
    }
   ],
   "source": [
    "test.plot()\n"
   ]
  },
  {
   "cell_type": "code",
   "execution_count": 31,
   "metadata": {},
   "outputs": [],
   "source": [
    "class SPRT:\n",
    "    def __init__(self, alpha, beta, sigma, h0, h1, data=[]):\n",
    "        self.data = data\n",
    "        self.alpha = alpha\n",
    "        self.beta = beta\n",
    "        self.h0 = h0\n",
    "        self.h1 = h1\n",
    "        self.sigma = sigma\n",
    "        self.a = np.log(self.beta / (1 - self.alpha))\n",
    "        self.b = np.log((1 - self.beta) / self.alpha)\n",
    "        \n",
    "    def test(self, verbose=False):\n",
    "        if verbose:\n",
    "            print(\"x\\tlower\\tupper\")\n",
    "        a = np.log(self.beta / (1 - self.alpha))\n",
    "        b = np.log((1 - self.beta) / self.alpha)\n",
    "        n = 0\n",
    "        total_x = 0\n",
    "        for i, x in enumerate(self.data, 1):\n",
    "            total_x += x\n",
    "            n += i\n",
    "            lower = a * self.sigma * self.sigma / (self.h1 - self.h0) + i * (self.h0 + self.h1) / 2\n",
    "            upper = b * self.sigma * self.sigma / (self.h1 - self.h0) + i * (self.h0 + self.h1) / 2\n",
    "            if verbose:\n",
    "                print(str(x) + \"\\t\" + str(lower) + \"\\t\" + str(upper))\n",
    "            if x <= lower:\n",
    "                return \"Accept H0\"\n",
    "            elif x >= upper:\n",
    "                return \"Accept H1\""
   ]
  },
  {
   "cell_type": "code",
   "execution_count": 36,
   "metadata": {},
   "outputs": [],
   "source": [
    "sprt = SPRT(alpha = 0.05, beta = 0.2, h0 = 0, h1 = 2, data = np.random.normal(0, 1, 10), sigma = 1)"
   ]
  },
  {
   "cell_type": "code",
   "execution_count": 37,
   "metadata": {},
   "outputs": [
    {
     "name": "stdout",
     "output_type": "stream",
     "text": [
      "x\tlower\tupper\n",
      "0.4064417687337118\t6.1947680772558185\t5.653426409720027\n"
     ]
    },
    {
     "data": {
      "text/plain": [
       "'Accept H0'"
      ]
     },
     "execution_count": 37,
     "metadata": {},
     "output_type": "execute_result"
    }
   ],
   "source": [
    "sprt.test(verbose=True)"
   ]
  },
  {
   "cell_type": "code",
   "execution_count": null,
   "metadata": {},
   "outputs": [],
   "source": []
  },
  {
   "cell_type": "code",
   "execution_count": null,
   "metadata": {},
   "outputs": [],
   "source": []
  }
 ],
 "metadata": {
  "kernelspec": {
   "display_name": "Python 3",
   "language": "python",
   "name": "python3"
  },
  "language_info": {
   "codemirror_mode": {
    "name": "ipython",
    "version": 3
   },
   "file_extension": ".py",
   "mimetype": "text/x-python",
   "name": "python",
   "nbconvert_exporter": "python",
   "pygments_lexer": "ipython3",
   "version": "3.6.4"
  }
 },
 "nbformat": 4,
 "nbformat_minor": 2
}
