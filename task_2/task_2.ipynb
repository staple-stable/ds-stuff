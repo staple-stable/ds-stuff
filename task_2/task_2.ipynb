{
 "cells": [
  {
   "cell_type": "code",
   "execution_count": 1,
   "metadata": {},
   "outputs": [],
   "source": [
    "import numpy as np;\n",
    "import scipy;\n",
    "import seaborn as sns;\n",
    "from collections import defaultdict"
   ]
  },
  {
   "cell_type": "code",
   "execution_count": 13,
   "metadata": {},
   "outputs": [],
   "source": [
    "a = np.as"
   ]
  },
  {
   "cell_type": "code",
   "execution_count": 30,
   "metadata": {},
   "outputs": [],
   "source": [
    "general1 = np.random.normal(0, 1, 1000)\n",
    "general2 = np.random.normal(0, 1, 1000)\n",
    "general3 = np.random.normal(0, 1, 1000)\n"
   ]
  },
  {
   "cell_type": "code",
   "execution_count": 32,
   "metadata": {},
   "outputs": [
    {
     "data": {
      "text/plain": [
       "array([ 1.19396609,  0.38493356, -1.1609238 , ..., -0.27399359,\n",
       "        1.29372917, -0.00429534])"
      ]
     },
     "execution_count": 32,
     "metadata": {},
     "output_type": "execute_result"
    }
   ],
   "source": [
    "np.concatenate([general1, general2, general3])"
   ]
  },
  {
   "cell_type": "code",
   "execution_count": 4,
   "metadata": {},
   "outputs": [
    {
     "data": {
      "text/plain": [
       "1.019587041059565"
      ]
     },
     "execution_count": 4,
     "metadata": {},
     "output_type": "execute_result"
    }
   ],
   "source": [
    "general1.std()\n"
   ]
  },
  {
   "cell_type": "code",
   "execution_count": 33,
   "metadata": {},
   "outputs": [
    {
     "data": {
      "text/plain": [
       "<matplotlib.axes._subplots.AxesSubplot at 0x1a21656ac8>"
      ]
     },
     "execution_count": 33,
     "metadata": {},
     "output_type": "execute_result"
    },
    {
     "data": {
      "image/png": "[encoded data removed]",
      "text/plain": [
       "<matplotlib.figure.Figure at 0x1a2162c780>"
      ]
     },
     "metadata": {},
     "output_type": "display_data"
    }
   ],
   "source": [
    "sns.distplot(np.concatenate([general1, general2, general3]))"
   ]
  },
  {
   "cell_type": "code",
   "execution_count": 58,
   "metadata": {},
   "outputs": [],
   "source": [
    "class SamplingStrategy:\n",
    "    def generate_sample(self, input, samples):\n",
    "        pass\n",
    "    def mexp(self):\n",
    "        pass\n",
    "    def dispersion(self):\n",
    "        pass\n",
    "    "
   ]
  },
  {
   "cell_type": "code",
   "execution_count": 68,
   "metadata": {},
   "outputs": [],
   "source": [
    "class RandomSampler(SamplingStrategy):\n",
    "    def __init__(self, strats, samples):\n",
    "        self.input = np.concatenate(strats)\n",
    "        self.samples = samples\n",
    "    \n",
    "    def generate_sample(self):\n",
    "        self.sample = np.random.choice(self.input, self.samples, replace=False)\n",
    "        return self.sample\n",
    "    \n",
    "    def mexp(self):\n",
    "        return np.average(self.sample)\n",
    "    \n",
    "    def dispersion(self):\n",
    "        n = len(self.sample)\n",
    "        N = len(self.input)\n",
    "        return (np.std(self.sample) ** 2) * ((n - 1)/ n) * (N / (N - 1))"
   ]
  },
  {
   "cell_type": "code",
   "execution_count": 138,
   "metadata": {},
   "outputs": [],
   "source": [
    "class ProportionalSampler(SamplingStrategy):\n",
    "    def __init__(self, strats, samples):\n",
    "        self.population = np.concatenate(strats)\n",
    "        self.samples = samples\n",
    "        self.__prepare_strats(strats)\n",
    "        \n",
    "    def __prepare_strats(self, strats):\n",
    "        self.strats = defaultdict(dict)\n",
    "        total = self.population.size\n",
    "        for i, strat in enumerate(strats):\n",
    "            self.strats[i][\"w\"] = 1.0 * strat.size / total\n",
    "            self.strats[i][\"data\"] = strat\n",
    "    \n",
    "    def generate_sample(self):\n",
    "        total_sample = np.array([])\n",
    "        for i, strat in self.strats.items():\n",
    "            strat[\"sample\"] = np.random.choice(strat[\"data\"], int(strat[\"w\"]*self.samples), replace = False)\n",
    "            total_sample = np.concatenate([total_sample, np.array(strat[\"sample\"])])\n",
    "        return total_sample\n",
    "    \n",
    "    def mexp(self):\n",
    "        return sum([strat[\"w\"] * np.average(strat[\"sample\"]) for i, strat in self.strats.items()])\n",
    "    \n",
    "    def dispersion(self):\n",
    "        variance = sum([strat[\"w\"] * (np.std(strat[\"sample\"])**2) for i, strat in self.strats.items()])\n",
    "        mexp = self.mexp()\n",
    "        additional = 0\n",
    "        for i, strat in self.strats.items():\n",
    "            additional += strat[\"w\"] * (mexp - np.average(strat[\"sample\"]))**2\n",
    "        return variance + additional / len(self.strats)"
   ]
  },
  {
   "cell_type": "code",
   "execution_count": 133,
   "metadata": {},
   "outputs": [],
   "source": [
    "class OptimalSampler(SamplingStrategy):\n",
    "    def __init__(self, strats, samples):\n",
    "        self.population = np.concatenate(strats)\n",
    "        self.samples = samples\n",
    "        self.__prepare_strats(strats)\n",
    "        \n",
    "    def __prepare_strats(self, strats):\n",
    "        self.strats = defaultdict(dict)\n",
    "        total = self.population.size\n",
    "        for i, strat in enumerate(strats):\n",
    "            self.strats[i][\"w\"] = 1.0 * strat.size / total\n",
    "            self.strats[i][\"sigma\"] = strat.std()\n",
    "            self.strats[i][\"data\"] = strat\n",
    "    \n",
    "    def generate_sample(self):\n",
    "        total = sum([strat[\"w\"] * strat[\"sigma\"] for i, strat in self.strats.items()])\n",
    "         \n",
    "        total_sample = np.array([])\n",
    "        for i, strat in self.strats.items():\n",
    "            strat[\"w_updated\"] = 1.0 * strat[\"w\"] * strat[\"sigma\"]/total\n",
    "            strat[\"sample\"] = np.random.choice(strat[\"data\"], int(self.samples * strat[\"w_updated\"])) \n",
    "            total_sample = np.concatenate([total_sample, strat[\"sample\"]])\n",
    "        return total_sample\n",
    "    \n",
    "    def mexp(self):\n",
    "        return sum([strat[\"w\"] * np.average(strat[\"sample\"]) for i, strat in self.strats.items()])\n",
    "    \n",
    "    def dispersion(self):\n",
    "        variance = sum([strat[\"w_updated\"] * (np.std(strat[\"sample\"]) ** 2) for i, strat in self.strats.items()])\n",
    "        mexp = self.mexp()\n",
    "        additional = 0\n",
    "        for i, strat in self.strats.items():\n",
    "            additional += strat[\"w_updated\"] * (mexp - np.average(strat[\"sample\"]))**2\n",
    "        return variance + additional / len(self.strats)"
   ]
  },
  {
   "cell_type": "code",
   "execution_count": 124,
   "metadata": {},
   "outputs": [],
   "source": [
    "class Simulator:\n",
    "    def __init__(self, strats, samples):\n",
    "        self.strategies = self.__init_selection_strategies(strats, samples)\n",
    "            \n",
    "    def __init_selection_strategies(self, strats, samples):\n",
    "        def random_sampling():\n",
    "            return RandomSampler(strats, samples)\n",
    "        \n",
    "        def proportional_sampling():\n",
    "            return ProportionalSampler(strats, samples)\n",
    "        \n",
    "        def optimal_sampling():\n",
    "            return OptimalSampler(strats, samples)\n",
    "        \n",
    "        strategies = {}\n",
    "        strategies[\"random\"] = random_sampling\n",
    "        strategies[\"proportional\"] = proportional_sampling\n",
    "        strategies[\"optimal\"] = optimal_sampling\n",
    "        return strategies\n",
    "    \n",
    "    def run(self, iterations, strategy):\n",
    "        sample_generator = self.strategies[strategy]()\n",
    "        me = []\n",
    "        var = []\n",
    "        for i in range(iterations):\n",
    "            sample_generator.generate_sample()\n",
    "            me.append(sample_generator.mexp())\n",
    "            var.append(sample_generator.dispersion())\n",
    "        return (me, var)"
   ]
  },
  {
   "cell_type": "code",
   "execution_count": 125,
   "metadata": {},
   "outputs": [],
   "source": [
    "simulator = Simulator(strats=[general1, general2, general3], samples=500)"
   ]
  },
  {
   "cell_type": "code",
   "execution_count": 139,
   "metadata": {},
   "outputs": [],
   "source": [
    "result = simulator.run(iterations=1000, strategy=\"proportional\")"
   ]
  },
  {
   "cell_type": "code",
   "execution_count": 142,
   "metadata": {},
   "outputs": [
    {
     "data": {
      "text/plain": [
       "<matplotlib.axes._subplots.AxesSubplot at 0x1a2168f828>"
      ]
     },
     "execution_count": 142,
     "metadata": {},
     "output_type": "execute_result"
    },
    {
     "data": {
      "image/png": "[encoded data removed]",
      "text/plain": [
       "<matplotlib.figure.Figure at 0x1a1fb18e10>"
      ]
     },
     "metadata": {},
     "output_type": "display_data"
    }
   ],
   "source": [
    "sns.distplot(result[1])"
   ]
  },
  {
   "cell_type": "code",
   "execution_count": null,
   "metadata": {},
   "outputs": [],
   "source": []
  }
 ],
 "metadata": {
  "kernelspec": {
   "display_name": "Python 3",
   "language": "python",
   "name": "python3"
  },
  "language_info": {
   "codemirror_mode": {
    "name": "ipython",
    "version": 3
   },
   "file_extension": ".py",
   "mimetype": "text/x-python",
   "name": "python",
   "nbconvert_exporter": "python",
   "pygments_lexer": "ipython3",
   "version": "3.6.4"
  }
 },
 "nbformat": 4,
 "nbformat_minor": 2
}
